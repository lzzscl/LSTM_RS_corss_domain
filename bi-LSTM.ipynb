{
 "cells": [
  {
   "cell_type": "code",
   "execution_count": 154,
   "metadata": {},
   "outputs": [],
   "source": [
    "import pandas as pd\n",
    "import numpy as np \n",
    "import os\n",
    "from keras.layers import Bidirectional, Concatenate, Permute, Dot, Input, LSTM, Multiply\n",
    "from keras.layers import RepeatVector, Dense, Activation, Lambda, Flatten, BatchNormalization\n",
    "from keras.optimizers import Adam\n",
    "from keras.utils import to_categorical\n",
    "from keras.models import load_model, Model\n",
    "import keras.backend as K\n",
    "import numpy as np\n",
    "from keras.losses import binary_crossentropy, mse\n",
    "import random\n",
    "import matplotlib.pyplot as plt\n",
    "import os\n",
    "import datetime\n",
    "from sklearn.metrics import accuracy_score, f1_score, recall_score, precision_score, classification_report"
   ]
  },
  {
   "cell_type": "code",
   "execution_count": 2,
   "metadata": {},
   "outputs": [],
   "source": [
    "work_path = os.open('...',os.O_RDONLY)\n",
    "files = os.listdir(work_path)\n",
    "files= sorted(files)\n",
    "files = files[1:]\n",
    "end_bid = files.index('...')\n",
    "files = files[:end_bid]"
   ]
  },
  {
   "cell_type": "code",
   "execution_count": 3,
   "metadata": {},
   "outputs": [],
   "source": [
    "vu_vec = []\n",
    "time_step = 0\n",
    "for file in files:\n",
    "    vu_vec.append(np.load('...' + file).item())\n",
    "    time_step += 1"
   ]
  },
  {
   "cell_type": "code",
   "execution_count": 4,
   "metadata": {},
   "outputs": [],
   "source": [
    "df_order = pd.read_csv('...', sep = '\\t', compression='gzip')"
   ]
  },
  {
   "cell_type": "code",
   "execution_count": 5,
   "metadata": {},
   "outputs": [],
   "source": [
    "df_deal_vec = pd.read_csv('...', compression='gzip')\n",
    "df_deal_vec.dealvec = df_deal_vec.dealvec.map(lambda x: x[2:-2].split())"
   ]
  },
  {
   "cell_type": "code",
   "execution_count": 6,
   "metadata": {},
   "outputs": [],
   "source": [
    "df_order['ins_tm'] = pd.to_datetime(df_order['ins_tm'],format='%Y-%m-%d %H:%M:%S')\n",
    "df_order['date'] = df_order.ins_tm.dt.date\n",
    "train_order = df_order.loc[df_order.date <= datetime.date(2017,6,18)]\n",
    "train_order = train_order.loc[df_order.date >= datetime.date(2017,6,12)]\n",
    "train_order = train_order[['account_id','deal_id']]\n",
    "train_order['rating'] = 1"
   ]
  },
  {
   "cell_type": "code",
   "execution_count": 167,
   "metadata": {},
   "outputs": [],
   "source": [
    "dev_order = df_order.loc[df_order.date == datetime.date(2017,6,19)]\n",
    "dev_order = test_order[['account_id','deal_id']]\n",
    "dev_order['rating'] = 1"
   ]
  },
  {
   "cell_type": "code",
   "execution_count": 168,
   "metadata": {},
   "outputs": [],
   "source": [
    "test_order = df_order.loc[df_order.date == datetime.date(2017,6,20)]\n",
    "test_order = test_order[['account_id','deal_id']]\n",
    "test_order['rating'] = 1"
   ]
  },
  {
   "cell_type": "code",
   "execution_count": 7,
   "metadata": {},
   "outputs": [
    {
     "name": "stdout",
     "output_type": "stream",
     "text": [
      "0/39322finished!\n",
      "10000/39322finished!\n",
      "20000/39322finished!\n",
      "30000/39322finished!\n"
     ]
    }
   ],
   "source": [
    "item_list = list(train_order.deal_id.unique())\n",
    "user_list = list(train_order.account_id.unique())\n",
    "\n",
    "num_epo = 0\n",
    "Negative_sample = []\n",
    "for user in user_list:\n",
    "    bought_list = list(train_order[train_order.account_id == user].deal_id.values)\n",
    "    negative_list = list(set(item_list)^set(bought_list))\n",
    "    some = random.sample(negative_list, len(bought_list))\n",
    "    for i in range(len(bought_list)):\n",
    "        Negative_sample.append([user, some[i], 0])\n",
    "    if num_epo%10000 == 0:\n",
    "        print(str(num_epo) + '/' + str(len(user_list)) + 'finished!')\n",
    "    num_epo += 1\n",
    "df_Ns = pd.DataFrame(Negative_sample, columns=['account_id', 'deal_id', 'rating'])\n",
    "train_order = train_order.append(df_Ns, ignore_index=True)"
   ]
  },
  {
   "cell_type": "code",
   "execution_count": 171,
   "metadata": {},
   "outputs": [
    {
     "name": "stdout",
     "output_type": "stream",
     "text": [
      "0/5317finished!\n"
     ]
    }
   ],
   "source": [
    "item_list = list(dev_order.deal_id.unique())\n",
    "user_list = list(dev_order.account_id.unique())\n",
    "\n",
    "num_epo = 0\n",
    "Negative_sample = []\n",
    "for user in user_list:\n",
    "    bought_list = list(dev_order[dev_order.account_id == user].deal_id.values)\n",
    "    negative_list = list(set(item_list)-set(bought_list))\n",
    "    some = random.sample(negative_list, len(set(bought_list)&set(item_list)))\n",
    "    for i in range(len(set(bought_list)&set(item_list))):\n",
    "        Negative_sample.append([user, some[i], 0])\n",
    "    if num_epo%10000 == 0:\n",
    "        print(str(num_epo) + '/' + str(len(user_list)) + 'finished!')\n",
    "    num_epo += 1\n",
    "df_Ns = pd.DataFrame(Negative_sample, columns=['account_id', 'deal_id', 'rating'])\n",
    "dev_order = dev_order.append(df_Ns, ignore_index=True)"
   ]
  },
  {
   "cell_type": "code",
   "execution_count": 172,
   "metadata": {},
   "outputs": [
    {
     "name": "stdout",
     "output_type": "stream",
     "text": [
      "0/4412finished!\n"
     ]
    }
   ],
   "source": [
    "item_list = list(test_order.deal_id.unique())\n",
    "user_list = list(test_order.account_id.unique())\n",
    "\n",
    "num_epo = 0\n",
    "Negative_sample = []\n",
    "for user in user_list:\n",
    "    bought_list = list(test_order[test_order.account_id == user].deal_id.values)\n",
    "    negative_list = list(set(item_list)-set(bought_list))\n",
    "    some = random.sample(negative_list, len(set(bought_list)&set(item_list)))\n",
    "    for i in range(len(set(bought_list)&set(item_list))):\n",
    "        Negative_sample.append([user, some[i], 0])\n",
    "    if num_epo%10000 == 0:\n",
    "        print(str(num_epo) + '/' + str(len(user_list)) + 'finished!')\n",
    "    num_epo += 1\n",
    "df_Ns = pd.DataFrame(Negative_sample, columns=['account_id', 'deal_id', 'rating'])\n",
    "test_order = test_order.append(df_Ns, ignore_index=True)"
   ]
  },
  {
   "cell_type": "code",
   "execution_count": 8,
   "metadata": {},
   "outputs": [],
   "source": [
    "from sklearn.model_selection import train_test_split\n",
    "train, dev = train_test_split(train_order, test_size = 0.05)"
   ]
  },
  {
   "cell_type": "code",
   "execution_count": 39,
   "metadata": {},
   "outputs": [],
   "source": [
    "def changeID2vec(i,user_id):\n",
    "    num_empty = 0\n",
    "    try:\n",
    "        user_vec = vu_vec[i][user_id]\n",
    "    except:\n",
    "        #user_vec = np.zeros([1,200], dtype = float)\n",
    "        user_vec = []\n",
    "        num_empty = 1\n",
    "    return user_vec, num_empty"
   ]
  },
  {
   "cell_type": "code",
   "execution_count": 40,
   "metadata": {},
   "outputs": [],
   "source": [
    "def preprocess(df, valid_day):\n",
    "    # generate input feature of user_vec and item_vec\n",
    "    user_list = [] # train.account_id.values\n",
    "    item_list = [] # train.deal_id.values\n",
    "    label = df.rating.values\n",
    "    num_empty = []\n",
    "\n",
    "    for user_id in df.account_id.values:\n",
    "        temp_vec = []\n",
    "        emp_num = 0\n",
    "        for i in range(time_step):\n",
    "            user_vec, emt = changeID2vec(i,user_id)\n",
    "            temp_vec.extend(user_vec)\n",
    "            emp_num += emt\n",
    "        for i in range(emp_num):\n",
    "            temp_vec.extend(np.zeros([1,200], dtype = float))\n",
    "        user_list.append(temp_vec)\n",
    "        num_empty.append(emp_num)\n",
    "\n",
    "    for item_id in df.deal_id.values:\n",
    "        item_list.extend(df_deal_vec.loc[df_deal_vec.deal_id == item_id]['dealvec'].values) \n",
    "\n",
    "    useful_index = []\n",
    "    for i in range(len(num_empty)):\n",
    "        if(num_empty[i] <= time_step-valid_day):\n",
    "            useful_index.extend([i])\n",
    "\n",
    "    useful_user_list = []\n",
    "    useful_item_list = []\n",
    "    useful_label_list = []\n",
    "    for index in useful_index:\n",
    "        useful_user_list.append(user_list[index])\n",
    "        useful_item_list.append(item_list[index])\n",
    "        useful_label_list.append(label[index])\n",
    "\n",
    "    useful_user = np.array(useful_user_list)\n",
    "    useful_item = np.array(useful_item_list)\n",
    "    useful_label = np.array(useful_label_list)\n",
    "    \n",
    "    return useful_user, useful_item, useful_label"
   ]
  },
  {
   "cell_type": "code",
   "execution_count": 59,
   "metadata": {},
   "outputs": [],
   "source": [
    "train_user, train_item, train_label = preprocess(train,5)"
   ]
  },
  {
   "cell_type": "code",
   "execution_count": 173,
   "metadata": {},
   "outputs": [],
   "source": [
    "train_dev_user, train_dev_item, train_dev_label = preprocess(dev,5)"
   ]
  },
  {
   "cell_type": "code",
   "execution_count": 174,
   "metadata": {},
   "outputs": [],
   "source": [
    "dev_user, dev_item, dev_label = preprocess(dev_order, 5)"
   ]
  },
  {
   "cell_type": "code",
   "execution_count": 140,
   "metadata": {},
   "outputs": [],
   "source": [
    "test_user, test_item, test_label = preprocess(test_order, 5)"
   ]
  },
  {
   "cell_type": "markdown",
   "metadata": {},
   "source": [
    "# bi-LSTM with attention"
   ]
  },
  {
   "cell_type": "code",
   "execution_count": 182,
   "metadata": {},
   "outputs": [],
   "source": [
    "def softmax(x, axis=1):\n",
    "    \"\"\"Softmax activation function.\n",
    "    # Arguments\n",
    "        x : Tensor.\n",
    "        axis: Integer, axis along which the softmax normalization is applied.\n",
    "    # Returns\n",
    "        Tensor, output of softmax transformation.\n",
    "    # Raises\n",
    "        ValueError: In case `dim(x) == 1`.\n",
    "    \"\"\"\n",
    "    ndim = K.ndim(x)\n",
    "    if ndim == 2:\n",
    "        return K.softmax(x)\n",
    "    elif ndim > 2:\n",
    "        e = K.exp(x - K.max(x, axis=axis, keepdims=True))\n",
    "        s = K.sum(e, axis=axis, keepdims=True)\n",
    "        return e / s\n",
    "    else:\n",
    "        raise ValueError('Cannot apply softmax to a tensor that is 1D')"
   ]
  },
  {
   "cell_type": "code",
   "execution_count": 183,
   "metadata": {},
   "outputs": [],
   "source": [
    "#Defined shared layers\n",
    "concatenator = Concatenate(axis=-1)\n",
    "densor1 = Dense(12, activation='tanh')\n",
    "densor2 = Dense(1, activation='relu')\n",
    "activator = Activation(softmax, name='attention_weights')\n",
    "dotor = Dot(axes=1)\n",
    "\n",
    "Norm_user = BatchNormalization()\n",
    "Norm_item = BatchNormalization()\n",
    "\n",
    "densor_user1 = Dense(128, activation='relu')\n",
    "densor_deal1 = Dense(128, activation='relu')\n",
    "densor_user2 = Dense(128, activation='relu')\n",
    "densor_deal2 = Dense(128, activation='relu')\n",
    "densor_user3 = Dense(64, activation='relu')\n",
    "densor_deal3 = Dense(64, activation='relu')\n",
    "densor_user4 = Dense(32, activation='relu')\n",
    "densor_deal4 = Dense(32, activation='relu')\n",
    "\n",
    "flat = Flatten()\n",
    "concat = Dot(axes=1)\n",
    "output = Dense(1, activation='sigmoid')"
   ]
  },
  {
   "cell_type": "code",
   "execution_count": 184,
   "metadata": {},
   "outputs": [],
   "source": [
    "def one_step_attention(a):\n",
    "    e = densor1(a)\n",
    "    energies = densor2(e)\n",
    "    alphas = activator(energies)\n",
    "    context = dotor([alphas, a])\n",
    "    return context"
   ]
  },
  {
   "cell_type": "code",
   "execution_count": 185,
   "metadata": {},
   "outputs": [],
   "source": [
    "def model_generate(Tx, n_a, vec_dim):\n",
    "    X_user = Input(shape=(Tx, vec_dim))\n",
    "    \n",
    "    a = Bidirectional(LSTM(n_a, return_sequences= True))(X_user)\n",
    "    context = one_step_attention(a)\n",
    "    \n",
    "    X_deal = Input(shape=(vec_dim,))\n",
    "     \n",
    "    flat_user = flat(context)\n",
    "    \n",
    "    user_0 = Norm_user(flat_user)\n",
    "    deal_0 = Norm_item(X_deal)\n",
    "    user_1 = densor_user1(user_0)\n",
    "    deal_1 = densor_deal1(deal_0)\n",
    "    user_2 = densor_user2(user_1)\n",
    "    deal_2 = densor_deal2(deal_1)\n",
    "    user_3 = densor_user3(user_2)\n",
    "    deal_3 = densor_deal3(deal_2)\n",
    "    user_4 = densor_user4(user_3)\n",
    "    deal_4 = densor_deal4(deal_3)\n",
    "    \n",
    "    hidden = concat([user_4, deal_4])\n",
    "    pred = output(hidden)\n",
    "    \n",
    "    model = Model(input = [X_user, X_deal], outputs = pred)\n",
    "    return model"
   ]
  },
  {
   "cell_type": "code",
   "execution_count": 186,
   "metadata": {},
   "outputs": [
    {
     "name": "stderr",
     "output_type": "stream",
     "text": [
      "/home/mmde-lab/anaconda3/envs/whxPyEnv/lib/python3.6/site-packages/ipykernel_launcher.py:25: UserWarning: Update your `Model` call to the Keras 2 API: `Model(outputs=Tensor(\"de..., inputs=[<tf.Tenso...)`\n"
     ]
    }
   ],
   "source": [
    "model = model_generate(time_step, 256, 200)"
   ]
  },
  {
   "cell_type": "code",
   "execution_count": 187,
   "metadata": {},
   "outputs": [
    {
     "name": "stdout",
     "output_type": "stream",
     "text": [
      "__________________________________________________________________________________________________\n",
      "Layer (type)                    Output Shape         Param #     Connected to                     \n",
      "==================================================================================================\n",
      "input_32 (InputLayer)           (None, 32, 200)      0                                            \n",
      "__________________________________________________________________________________________________\n",
      "bidirectional_16 (Bidirectional (None, 32, 512)      935936      input_32[0][0]                   \n",
      "__________________________________________________________________________________________________\n",
      "dense_155 (Dense)               (None, 32, 12)       6156        bidirectional_16[0][0]           \n",
      "__________________________________________________________________________________________________\n",
      "dense_156 (Dense)               (None, 32, 1)        13          dense_155[0][0]                  \n",
      "__________________________________________________________________________________________________\n",
      "attention_weights (Activation)  (None, 32, 1)        0           dense_156[0][0]                  \n",
      "__________________________________________________________________________________________________\n",
      "dot_29 (Dot)                    (None, 1, 512)       0           attention_weights[0][0]          \n",
      "                                                                 bidirectional_16[0][0]           \n",
      "__________________________________________________________________________________________________\n",
      "flatten_15 (Flatten)            (None, 512)          0           dot_29[0][0]                     \n",
      "__________________________________________________________________________________________________\n",
      "input_33 (InputLayer)           (None, 200)          0                                            \n",
      "__________________________________________________________________________________________________\n",
      "batch_normalization_29 (BatchNo (None, 512)          2048        flatten_15[0][0]                 \n",
      "__________________________________________________________________________________________________\n",
      "batch_normalization_30 (BatchNo (None, 200)          800         input_33[0][0]                   \n",
      "__________________________________________________________________________________________________\n",
      "dense_157 (Dense)               (None, 128)          65664       batch_normalization_29[0][0]     \n",
      "__________________________________________________________________________________________________\n",
      "dense_158 (Dense)               (None, 128)          25728       batch_normalization_30[0][0]     \n",
      "__________________________________________________________________________________________________\n",
      "dense_159 (Dense)               (None, 128)          16512       dense_157[0][0]                  \n",
      "__________________________________________________________________________________________________\n",
      "dense_160 (Dense)               (None, 128)          16512       dense_158[0][0]                  \n",
      "__________________________________________________________________________________________________\n",
      "dense_161 (Dense)               (None, 64)           8256        dense_159[0][0]                  \n",
      "__________________________________________________________________________________________________\n",
      "dense_162 (Dense)               (None, 64)           8256        dense_160[0][0]                  \n",
      "__________________________________________________________________________________________________\n",
      "dense_163 (Dense)               (None, 32)           2080        dense_161[0][0]                  \n",
      "__________________________________________________________________________________________________\n",
      "dense_164 (Dense)               (None, 32)           2080        dense_162[0][0]                  \n",
      "__________________________________________________________________________________________________\n",
      "dot_30 (Dot)                    (None, 1)            0           dense_163[0][0]                  \n",
      "                                                                 dense_164[0][0]                  \n",
      "__________________________________________________________________________________________________\n",
      "dense_165 (Dense)               (None, 1)            2           dot_30[0][0]                     \n",
      "==================================================================================================\n",
      "Total params: 1,090,043\n",
      "Trainable params: 1,088,619\n",
      "Non-trainable params: 1,424\n",
      "__________________________________________________________________________________________________\n"
     ]
    }
   ],
   "source": [
    "model.summary()"
   ]
  },
  {
   "cell_type": "code",
   "execution_count": 188,
   "metadata": {},
   "outputs": [
    {
     "name": "stdout",
     "output_type": "stream",
     "text": [
      "Train on 21010 samples, validate on 1108 samples\n",
      "Epoch 1/100\n",
      "21010/21010 [==============================] - 35s 2ms/step - loss: 0.6037 - acc: 0.7188 - val_loss: 0.5277 - val_acc: 0.7933\n",
      "\n",
      "Epoch 00001: val_loss improved from inf to 0.52766, saving model to model.hdf5\n",
      "Epoch 2/100\n",
      "21010/21010 [==============================] - 28s 1ms/step - loss: 0.5280 - acc: 0.7762 - val_loss: 0.5001 - val_acc: 0.8069\n",
      "\n",
      "Epoch 00002: val_loss improved from 0.52766 to 0.50008, saving model to model.hdf5\n",
      "Epoch 3/100\n",
      "21010/21010 [==============================] - 28s 1ms/step - loss: 0.4958 - acc: 0.7909 - val_loss: 0.4685 - val_acc: 0.8150\n",
      "\n",
      "Epoch 00003: val_loss improved from 0.50008 to 0.46849, saving model to model.hdf5\n",
      "Epoch 4/100\n",
      "21010/21010 [==============================] - 28s 1ms/step - loss: 0.4645 - acc: 0.8066 - val_loss: 0.4446 - val_acc: 0.8186\n",
      "\n",
      "Epoch 00004: val_loss improved from 0.46849 to 0.44456, saving model to model.hdf5\n",
      "Epoch 5/100\n",
      "21010/21010 [==============================] - 28s 1ms/step - loss: 0.4403 - acc: 0.8165 - val_loss: 0.4377 - val_acc: 0.8213\n",
      "\n",
      "Epoch 00005: val_loss improved from 0.44456 to 0.43769, saving model to model.hdf5\n",
      "Epoch 6/100\n",
      "21010/21010 [==============================] - 28s 1ms/step - loss: 0.4185 - acc: 0.8236 - val_loss: 0.4229 - val_acc: 0.8321\n",
      "\n",
      "Epoch 00006: val_loss improved from 0.43769 to 0.42287, saving model to model.hdf5\n",
      "Epoch 7/100\n",
      "21010/21010 [==============================] - 28s 1ms/step - loss: 0.3983 - acc: 0.8332 - val_loss: 0.4171 - val_acc: 0.8294\n",
      "\n",
      "Epoch 00007: val_loss improved from 0.42287 to 0.41706, saving model to model.hdf5\n",
      "Epoch 8/100\n",
      "21010/21010 [==============================] - 28s 1ms/step - loss: 0.3831 - acc: 0.8399 - val_loss: 0.4124 - val_acc: 0.8339\n",
      "\n",
      "Epoch 00008: val_loss improved from 0.41706 to 0.41243, saving model to model.hdf5\n",
      "Epoch 9/100\n",
      "21010/21010 [==============================] - 28s 1ms/step - loss: 0.3656 - acc: 0.8483 - val_loss: 0.4104 - val_acc: 0.8285\n",
      "\n",
      "Epoch 00009: val_loss improved from 0.41243 to 0.41040, saving model to model.hdf5\n",
      "Epoch 10/100\n",
      "21010/21010 [==============================] - 28s 1ms/step - loss: 0.3475 - acc: 0.8576 - val_loss: 0.4149 - val_acc: 0.8348\n",
      "\n",
      "Epoch 00010: val_loss did not improve from 0.41040\n",
      "Epoch 11/100\n",
      "21010/21010 [==============================] - 28s 1ms/step - loss: 0.3380 - acc: 0.8638 - val_loss: 0.4096 - val_acc: 0.8339\n",
      "\n",
      "Epoch 00011: val_loss improved from 0.41040 to 0.40957, saving model to model.hdf5\n",
      "Epoch 12/100\n",
      "21010/21010 [==============================] - 28s 1ms/step - loss: 0.3181 - acc: 0.8746 - val_loss: 0.4130 - val_acc: 0.8403\n",
      "\n",
      "Epoch 00012: val_loss did not improve from 0.40957\n",
      "Epoch 13/100\n",
      "21010/21010 [==============================] - 28s 1ms/step - loss: 0.3088 - acc: 0.8754 - val_loss: 0.4153 - val_acc: 0.8312\n",
      "\n",
      "Epoch 00013: val_loss did not improve from 0.40957\n",
      "Epoch 14/100\n",
      "21010/21010 [==============================] - 28s 1ms/step - loss: 0.2971 - acc: 0.8860 - val_loss: 0.4361 - val_acc: 0.8240\n",
      "\n",
      "Epoch 00014: val_loss did not improve from 0.40957\n",
      "Epoch 00014: early stopping\n"
     ]
    }
   ],
   "source": [
    "from keras.callbacks import EarlyStopping, ModelCheckpoint\n",
    "\n",
    "check_point = ModelCheckpoint('model.hdf5', verbose=True, save_best_only = True)\n",
    "early_stop = EarlyStopping(patience=3, verbose=True)\n",
    "\n",
    "opt = model.compile(optimizer=Adam(lr=0.001, beta_1=0.9, beta_2=0.999, decay=0.001),\n",
    "                   metrics = ['accuracy'],\n",
    "                   loss = binary_crossentropy)\n",
    "history = model.fit([train_user, train_item], train_label,\n",
    "          validation_data= ([train_dev_user, train_dev_item], train_dev_label),\n",
    "          epochs=100,\n",
    "          batch_size=32,\n",
    "          verbose=True,\n",
    "          callbacks=[early_stop, check_point])"
   ]
  },
  {
   "cell_type": "code",
   "execution_count": 164,
   "metadata": {},
   "outputs": [
    {
     "data": {
      "text/plain": [
       "[<matplotlib.lines.Line2D at 0x7f8fa8717e80>]"
      ]
     },
     "execution_count": 164,
     "metadata": {},
     "output_type": "execute_result"
    },
    {
     "data": {
      "image/png": "[encoded data removed]",
      "text/plain": [
       "<Figure size 432x288 with 1 Axes>"
      ]
     },
     "metadata": {},
     "output_type": "display_data"
    }
   ],
   "source": [
    "plt.plot(history.history['loss'])\n",
    "plt.plot(history.history['val_loss'], color='r')"
   ]
  },
  {
   "cell_type": "code",
   "execution_count": 165,
   "metadata": {},
   "outputs": [],
   "source": [
    "def model_pred(df_user, df_item):\n",
    "    pred_result = model.predict([df_user, df_item])\n",
    "    return pred_result\n",
    "def new_print_result(df_user, df_item, df_label):\n",
    "    pred_result = model_pred(df_user, df_item)\n",
    "    for i in range(len(pred_result)):\n",
    "        pred_result[i] = int(pred_result[i][0] >= 0.5)\n",
    "    print((pred_result == 1).sum())\n",
    "    print('accuracy: ',  accuracy_score(df_label, pred_result))\n",
    "    print(classification_report(df_label, pred_result))"
   ]
  },
  {
   "cell_type": "code",
   "execution_count": 191,
   "metadata": {},
   "outputs": [
    {
     "name": "stdout",
     "output_type": "stream",
     "text": [
      "578\n",
      "accuracy:  0.8240072202166066\n",
      "             precision    recall  f1-score   support\n",
      "\n",
      "          0       0.85      0.80      0.82       561\n",
      "          1       0.80      0.85      0.83       547\n",
      "\n",
      "avg / total       0.83      0.82      0.82      1108\n",
      "\n"
     ]
    }
   ],
   "source": [
    "new_print_result(train_dev_user, train_dev_item, train_dev_label)"
   ]
  },
  {
   "cell_type": "code",
   "execution_count": 189,
   "metadata": {},
   "outputs": [
    {
     "name": "stdout",
     "output_type": "stream",
     "text": [
      "1589\n",
      "accuracy:  0.6862680683311432\n",
      "             precision    recall  f1-score   support\n",
      "\n",
      "          0       0.69      0.67      0.68      1510\n",
      "          1       0.68      0.71      0.69      1534\n",
      "\n",
      "avg / total       0.69      0.69      0.69      3044\n",
      "\n"
     ]
    }
   ],
   "source": [
    "new_print_result(test_user, test_item, test_label)"
   ]
  },
  {
   "cell_type": "code",
   "execution_count": 192,
   "metadata": {},
   "outputs": [
    {
     "data": {
      "text/plain": [
       "1108"
      ]
     },
     "execution_count": 192,
     "metadata": {},
     "output_type": "execute_result"
    }
   ],
   "source": [
    "len(train_dev_item)"
   ]
  },
  {
   "cell_type": "code",
   "execution_count": 194,
   "metadata": {},
   "outputs": [
    {
     "data": {
      "text/plain": [
       "21010"
      ]
     },
     "execution_count": 194,
     "metadata": {},
     "output_type": "execute_result"
    }
   ],
   "source": [
    "len(train_item)"
   ]
  },
  {
   "cell_type": "code",
   "execution_count": null,
   "metadata": {},
   "outputs": [],
   "source": []
  }
 ],
 "metadata": {
  "hide_input": false,
  "kernelspec": {
   "display_name": "lizhi",
   "language": "python",
   "name": "lizhi"
  },
  "language_info": {
   "codemirror_mode": {
    "name": "ipython",
    "version": 3
   },
   "file_extension": ".py",
   "mimetype": "text/x-python",
   "name": "python",
   "nbconvert_exporter": "python",
   "pygments_lexer": "ipython3",
   "version": "3.7.3"
  }
 },
 "nbformat": 4,
 "nbformat_minor": 2
}
