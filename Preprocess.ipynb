{
 "cells": [
  {
   "cell_type": "code",
   "execution_count": 1,
   "metadata": {},
   "outputs": [],
   "source": [
    "import pandas as pd \n",
    "import numpy as np\n",
    "import gc\n",
    "import os\n",
    "from gensim.models import Word2Vec\n",
    "from gensim.models import TfidfModel\n",
    "from gensim import corpora\n",
    "import warnings\n",
    "warnings.filterwarnings(\"ignore\")"
   ]
  },
  {
   "cell_type": "code",
   "execution_count": 67,
   "metadata": {},
   "outputs": [],
   "source": [
    "work_path = os.open('...',os.O_RDONLY)\n",
    "files = os.listdir(work_path)\n",
    "files= sorted(files)\n",
    "files = files[1:]\n",
    "start_bid = files.index('...')\n",
    "end_bid = files.index('...')\n",
    "files = files[start_bid:end_bid]\n",
    "files.remove('...')"
   ]
  },
  {
   "cell_type": "code",
   "execution_count": 3,
   "metadata": {},
   "outputs": [],
   "source": [
    "# some parameters\n",
    "time_step = 7\n",
    "threshold_view_amount = 500"
   ]
  },
  {
   "cell_type": "code",
   "execution_count": 4,
   "metadata": {},
   "outputs": [],
   "source": [
    "file_path = '...'\n",
    "url_dict = np.load('url_dict.npy')\n",
    "uuid_dict = np.load('id_dict.npy')\n",
    "df_dict = url_dict.item()\n",
    "model = Word2Vec.load('url_model')\n",
    "uuid_dict = uuid_dict.item()"
   ]
  },
  {
   "cell_type": "code",
   "execution_count": 6,
   "metadata": {},
   "outputs": [],
   "source": [
    "temp_csv = pd.read_csv(file_path + '...', sep = '\\t', header = None, compression='gzip')"
   ]
  },
  {
   "cell_type": "code",
   "execution_count": 7,
   "metadata": {},
   "outputs": [],
   "source": [
    "temp_csv = temp_csv.iloc[:, [2,4]]\n",
    "temp_csv = temp_csv.dropna()\n",
    "temp_csv[4] = temp_csv[4].map(lambda x: df_dict[x])\n",
    "temp_csv[4] = temp_csv[4].map(lambda x: str(x))"
   ]
  },
  {
   "cell_type": "code",
   "execution_count": 9,
   "metadata": {},
   "outputs": [
    {
     "data": {
      "text/plain": [
       "(4940189, 2)"
      ]
     },
     "execution_count": 9,
     "metadata": {},
     "output_type": "execute_result"
    }
   ],
   "source": [
    "temp_csv.shape"
   ]
  },
  {
   "cell_type": "code",
   "execution_count": 10,
   "metadata": {},
   "outputs": [
    {
     "data": {
      "text/plain": [
       "41684"
      ]
     },
     "execution_count": 10,
     "metadata": {},
     "output_type": "execute_result"
    }
   ],
   "source": [
    "len(temp_csv.groupby(2).apply(lambda x: ' '.join(list(x[4]))))"
   ]
  },
  {
   "cell_type": "code",
   "execution_count": 20,
   "metadata": {},
   "outputs": [],
   "source": [
    "temp_csv[2] = temp_csv[2].map(lambda x: uuid_dict[x])"
   ]
  },
  {
   "cell_type": "code",
   "execution_count": 71,
   "metadata": {},
   "outputs": [],
   "source": [
    "def map_uuid2vuid(uuid):\n",
    "    try:\n",
    "        vuid = uuid_dict[uuid]\n",
    "    except:\n",
    "        vuid = 'nan'\n",
    "    \n",
    "    return vuid"
   ]
  },
  {
   "cell_type": "code",
   "execution_count": 86,
   "metadata": {},
   "outputs": [],
   "source": [
    "def preprocess4corpus(file_path,file_name): \n",
    "    temp_csv = pd.read_csv(file_path + file_name, sep = '\\t', header = None, compression='gzip')\n",
    "    temp_csv = temp_csv.iloc[:, [2,4]]\n",
    "    temp_csv = temp_csv.dropna()\n",
    "    temp_csv[4] = temp_csv[4].map(lambda x: df_dict[x])\n",
    "    temp_csv[4] = temp_csv[4].map(lambda x: str(x))\n",
    "    temp_csv[2] = temp_csv[2].map(lambda x: map_uuid2vuid(x))\n",
    "    try:\n",
    "        temp_csv = temp_csv.loc[temp_csv[2] != 'nan']\n",
    "    except:\n",
    "        temp_csv = temp_csv\n",
    "    df_session = temp_csv.groupby(2).apply(lambda x: ' '.join(list(x[4])))\n",
    "    df_session = pd.DataFrame(df_session)\n",
    "    df_session = df_session.reset_index()\n",
    "    df_session.columns = ['id', 'url_session']\n",
    "    df_session.url_session = df_session.url_session.map(lambda x: x.split(' '))\n",
    "    df_session['session_length'] = df_session.url_session.map(lambda x: len(x))\n",
    "    df_session = df_session.loc[df_session.session_length<=threshold_view_amount]\n",
    "    \n",
    "    return df_session\n",
    "\n",
    "def calcu_user2vec_single_day(raw_des):\n",
    "    user_corpus = dictionary.doc2bow(raw_des)\n",
    "    uservec = np.zeros([1,200], dtype = float)\n",
    "    for j in range(len(user_corpus)):\n",
    "        try:\n",
    "            uservec += tfidf[user_corpus][j][1]*model[dictionary.get(user_corpus[j][0])]\n",
    "        except:\n",
    "            uservec += np.zeros([1,200], dtype = float)\n",
    "    return uservec"
   ]
  },
  {
   "cell_type": "code",
   "execution_count": null,
   "metadata": {},
   "outputs": [],
   "source": [
    "for file in files:\n",
    "    ssuser_vec_dict = {}\n",
    "    temp_csv = preprocess4corpus(file_path, file)\n",
    "    \n",
    "    corpus = temp_csv.url_session.values\n",
    "    dictionary = corpora.Dictionary(corpus)\n",
    "    dictionary.filter_extremes(no_below=1, no_above=1, keep_n=300000, keep_tokens=None)\n",
    "    corpus_dict = [dictionary.doc2bow(text) for text in corpus]\n",
    "    tfidf = TfidfModel(corpus_dict)\n",
    "    \n",
    "    temp_csv['user_vec_per_day'] = temp_csv.url_session.map(lambda x: calcu_user2vec_single_day(x))\n",
    "\n",
    "    vuid_list = temp_csv.uuid.values\n",
    "    vuid_vec = temp_csv.user_vec_per_day.values\n",
    "    vuvec_dict = {}\n",
    "    \n",
    "    for i in range(len(vuid_list)):\n",
    "        vuvec_dict[vuid_list[i]] = vuid_vec[i]\n",
    "    np.save('user_vec_per_day/user_vec'+ file[-15:-7] +'.npy', vuvec_dict)\n",
    "    print(file + '   end!')"
   ]
  }
 ],
 "metadata": {
  "hide_input": false,
  "kernelspec": {
   "display_name": "Python [conda env:whxPyEnv]",
   "language": "python",
   "name": "conda-env-whxPyEnv-py"
  },
  "language_info": {
   "codemirror_mode": {
    "name": "ipython",
    "version": 3
   },
   "file_extension": ".py",
   "mimetype": "text/x-python",
   "name": "python",
   "nbconvert_exporter": "python",
   "pygments_lexer": "ipython3",
   "version": "3.6.8"
  }
 },
 "nbformat": 4,
 "nbformat_minor": 2
}
