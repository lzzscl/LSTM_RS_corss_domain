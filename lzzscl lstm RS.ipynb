{
 "cells": [
  {
   "cell_type": "code",
   "execution_count": 1,
   "metadata": {},
   "outputs": [],
   "source": [
    "import numpy as np \n",
    "import pandas as pd"
   ]
  },
  {
   "cell_type": "code",
   "execution_count": 2,
   "metadata": {},
   "outputs": [
    {
     "name": "stderr",
     "output_type": "stream",
     "text": [
      "/home/mmde-lab/anaconda3/envs/whxPyEnv/lib/python3.6/site-packages/IPython/core/interactiveshell.py:2728: DtypeWarning: Columns (2,4) have mixed types. Specify dtype option on import or set low_memory=False.\n",
      "  interactivity=interactivity, compiler=compiler, result=result)\n"
     ]
    }
   ],
   "source": [
    "work_path = '...'\n",
    "train_order = pd.read_csv(work_path + 'train_order_add_negasmpl.gz', compression='gzip')\n",
    "train_order = train_order.loc[train_order.rating == 1]\n",
    "df_deal_vec = pd.read_csv('...', compression='gzip')"
   ]
  },
  {
   "cell_type": "code",
   "execution_count": 9,
   "metadata": {},
   "outputs": [
    {
     "data": {
      "text/html": [
       "<div>\n",
       "<style scoped>\n",
       "    .dataframe tbody tr th:only-of-type {\n",
       "        vertical-align: middle;\n",
       "    }\n",
       "\n",
       "    .dataframe tbody tr th {\n",
       "        vertical-align: top;\n",
       "    }\n",
       "\n",
       "    .dataframe thead th {\n",
       "        text-align: right;\n",
       "    }\n",
       "</style>\n",
       "<table border=\"1\" class=\"dataframe\">\n",
       "  <thead>\n",
       "    <tr style=\"text-align: right;\">\n",
       "      <th></th>\n",
       "      <th>Unnamed: 0</th>\n",
       "      <th>account_id</th>\n",
       "      <th>date</th>\n",
       "      <th>deal_id</th>\n",
       "      <th>ins_tm</th>\n",
       "      <th>rating</th>\n",
       "    </tr>\n",
       "  </thead>\n",
       "  <tbody>\n",
       "    <tr>\n",
       "      <th>135745</th>\n",
       "      <td>135745</td>\n",
       "      <td>48</td>\n",
       "      <td>2016-11-03</td>\n",
       "      <td>169110</td>\n",
       "      <td>2016-11-03 01:21:02</td>\n",
       "      <td>1</td>\n",
       "    </tr>\n",
       "    <tr>\n",
       "      <th>449029</th>\n",
       "      <td>449029</td>\n",
       "      <td>48</td>\n",
       "      <td>2017-01-20</td>\n",
       "      <td>191989</td>\n",
       "      <td>2017-01-20 14:45:23</td>\n",
       "      <td>1</td>\n",
       "    </tr>\n",
       "    <tr>\n",
       "      <th>468945</th>\n",
       "      <td>468945</td>\n",
       "      <td>48</td>\n",
       "      <td>2017-01-25</td>\n",
       "      <td>188005</td>\n",
       "      <td>2017-01-25 00:25:46</td>\n",
       "      <td>1</td>\n",
       "    </tr>\n",
       "    <tr>\n",
       "      <th>513668</th>\n",
       "      <td>513668</td>\n",
       "      <td>48</td>\n",
       "      <td>2017-02-04</td>\n",
       "      <td>196397</td>\n",
       "      <td>2017-02-04 22:59:41</td>\n",
       "      <td>1</td>\n",
       "    </tr>\n",
       "    <tr>\n",
       "      <th>675707</th>\n",
       "      <td>675707</td>\n",
       "      <td>48</td>\n",
       "      <td>2017-03-11</td>\n",
       "      <td>200441</td>\n",
       "      <td>2017-03-11 01:08:31</td>\n",
       "      <td>1</td>\n",
       "    </tr>\n",
       "    <tr>\n",
       "      <th>693830</th>\n",
       "      <td>693830</td>\n",
       "      <td>48</td>\n",
       "      <td>2017-03-13</td>\n",
       "      <td>200595</td>\n",
       "      <td>2017-03-13 21:55:36</td>\n",
       "      <td>1</td>\n",
       "    </tr>\n",
       "  </tbody>\n",
       "</table>\n",
       "</div>"
      ],
      "text/plain": [
       "        Unnamed: 0  account_id        date  deal_id               ins_tm  \\\n",
       "135745      135745          48  2016-11-03   169110  2016-11-03 01:21:02   \n",
       "449029      449029          48  2017-01-20   191989  2017-01-20 14:45:23   \n",
       "468945      468945          48  2017-01-25   188005  2017-01-25 00:25:46   \n",
       "513668      513668          48  2017-02-04   196397  2017-02-04 22:59:41   \n",
       "675707      675707          48  2017-03-11   200441  2017-03-11 01:08:31   \n",
       "693830      693830          48  2017-03-13   200595  2017-03-13 21:55:36   \n",
       "\n",
       "        rating  \n",
       "135745       1  \n",
       "449029       1  \n",
       "468945       1  \n",
       "513668       1  \n",
       "675707       1  \n",
       "693830       1  "
      ]
     },
     "execution_count": 9,
     "metadata": {},
     "output_type": "execute_result"
    }
   ],
   "source": [
    "train_order.loc[train_order.account_id == 48]"
   ]
  },
  {
   "cell_type": "code",
   "execution_count": 11,
   "metadata": {},
   "outputs": [],
   "source": [
    "df_deal_vec = df_deal_vec[['deal_id', 'dealvec']]\n",
    "df_deal_vec.dealvec = df_deal_vec.dealvec.map(lambda x: x[1:-1].split())"
   ]
  },
  {
   "cell_type": "code",
   "execution_count": 12,
   "metadata": {},
   "outputs": [],
   "source": [
    "train_order.deal_id = train_order.deal_id.map(lambda x: str(x))\n",
    "grouped_order = train_order.groupby('account_id').apply(lambda x: ' '.join(list(x['deal_id'])))\n",
    "Input_Data = pd.DataFrame(grouped_order)\n",
    "Input_Data = Input_Data.reset_index(drop = False)\n",
    "Input_Data.columns = ['account_id', 'deal_id']\n",
    "Input_Data['deal_id'] = Input_Data.deal_id.map(lambda x: x.split(' '))"
   ]
  },
  {
   "cell_type": "code",
   "execution_count": 13,
   "metadata": {},
   "outputs": [],
   "source": [
    "MAX_TIME_STEP = train_order.account_id.value_counts().max()\n",
    "MAX_TRAING_EXAMPLE_NUMBER = Input_Data.shape[0]"
   ]
  },
  {
   "cell_type": "code",
   "execution_count": 14,
   "metadata": {},
   "outputs": [],
   "source": [
    "def padding_to_match_time_step(session):\n",
    "    add_zeros = []\n",
    "    for i in range(MAX_TIME_STEP - len(session)):\n",
    "        add_zeros.append('0')\n",
    "    session.extend(add_zeros)\n",
    "    return session"
   ]
  },
  {
   "cell_type": "code",
   "execution_count": 15,
   "metadata": {},
   "outputs": [],
   "source": [
    "Input_Data['deal_id'] = Input_Data.deal_id.map(lambda x: padding_to_match_time_step(x))"
   ]
  },
  {
   "cell_type": "code",
   "execution_count": 16,
   "metadata": {},
   "outputs": [],
   "source": [
    "user_numpy = Input_Data.values"
   ]
  },
  {
   "cell_type": "code",
   "execution_count": 26,
   "metadata": {},
   "outputs": [
    {
     "data": {
      "text/plain": [
       "11.681003540619791"
      ]
     },
     "execution_count": 26,
     "metadata": {},
     "output_type": "execute_result"
    }
   ],
   "source": [
    "(train_order.account_id.value_counts() >= 10).sum() / (train_order.account_id.value_counts() >= 1).sum() *100"
   ]
  },
  {
   "cell_type": "code",
   "execution_count": 28,
   "metadata": {},
   "outputs": [
    {
     "data": {
      "text/plain": [
       "326746"
      ]
     },
     "execution_count": 28,
     "metadata": {},
     "output_type": "execute_result"
    }
   ],
   "source": [
    "(train_order.account_id.value_counts() <= 50).sum()"
   ]
  },
  {
   "cell_type": "code",
   "execution_count": null,
   "metadata": {},
   "outputs": [],
   "source": []
  },
  {
   "cell_type": "code",
   "execution_count": 10,
   "metadata": {},
   "outputs": [
    {
     "ename": "KeyboardInterrupt",
     "evalue": "",
     "output_type": "error",
     "traceback": [
      "\u001b[0;31m---------------------------------------------------------------------------\u001b[0m",
      "\u001b[0;31mKeyboardInterrupt\u001b[0m                         Traceback (most recent call last)",
      "\u001b[0;32m<ipython-input-10-78ea4cf27730>\u001b[0m in \u001b[0;36m<module>\u001b[0;34m()\u001b[0m\n\u001b[1;32m      4\u001b[0m             \u001b[0muser_numpy\u001b[0m\u001b[0;34m[\u001b[0m\u001b[0melement\u001b[0m\u001b[0;34m]\u001b[0m\u001b[0;34m[\u001b[0m\u001b[0;36m1\u001b[0m\u001b[0;34m]\u001b[0m\u001b[0;34m[\u001b[0m\u001b[0mdeal\u001b[0m\u001b[0;34m]\u001b[0m \u001b[0;34m=\u001b[0m \u001b[0mdf_deal_vec\u001b[0m\u001b[0;34m.\u001b[0m\u001b[0mloc\u001b[0m\u001b[0;34m[\u001b[0m\u001b[0mdf_deal_vec\u001b[0m\u001b[0;34m.\u001b[0m\u001b[0mdeal_id\u001b[0m \u001b[0;34m==\u001b[0m \u001b[0mint\u001b[0m\u001b[0;34m(\u001b[0m\u001b[0muser_numpy\u001b[0m\u001b[0;34m[\u001b[0m\u001b[0melement\u001b[0m\u001b[0;34m]\u001b[0m\u001b[0;34m[\u001b[0m\u001b[0;36m1\u001b[0m\u001b[0;34m]\u001b[0m\u001b[0;34m[\u001b[0m\u001b[0mdeal\u001b[0m\u001b[0;34m]\u001b[0m\u001b[0;34m)\u001b[0m\u001b[0;34m]\u001b[0m\u001b[0;34m.\u001b[0m\u001b[0mdealvec\u001b[0m\u001b[0;34m.\u001b[0m\u001b[0mvalues\u001b[0m\u001b[0;34m[\u001b[0m\u001b[0;36m0\u001b[0m\u001b[0;34m]\u001b[0m\u001b[0;34m\u001b[0m\u001b[0;34m\u001b[0m\u001b[0m\n\u001b[1;32m      5\u001b[0m         \u001b[0;32mif\u001b[0m \u001b[0muser_numpy\u001b[0m\u001b[0;34m[\u001b[0m\u001b[0melement\u001b[0m\u001b[0;34m]\u001b[0m\u001b[0;34m[\u001b[0m\u001b[0;36m1\u001b[0m\u001b[0;34m]\u001b[0m\u001b[0;34m[\u001b[0m\u001b[0mdeal\u001b[0m\u001b[0;34m]\u001b[0m \u001b[0;34m==\u001b[0m \u001b[0;34m'0'\u001b[0m\u001b[0;34m:\u001b[0m\u001b[0;34m\u001b[0m\u001b[0;34m\u001b[0m\u001b[0m\n\u001b[0;32m----> 6\u001b[0;31m             \u001b[0muser_numpy\u001b[0m\u001b[0;34m[\u001b[0m\u001b[0melement\u001b[0m\u001b[0;34m]\u001b[0m\u001b[0;34m[\u001b[0m\u001b[0;36m1\u001b[0m\u001b[0;34m]\u001b[0m\u001b[0;34m[\u001b[0m\u001b[0mdeal\u001b[0m\u001b[0;34m]\u001b[0m \u001b[0;34m=\u001b[0m \u001b[0mnp\u001b[0m\u001b[0;34m.\u001b[0m\u001b[0mzeros\u001b[0m\u001b[0;34m(\u001b[0m\u001b[0;36m200\u001b[0m\u001b[0;34m)\u001b[0m\u001b[0;34m.\u001b[0m\u001b[0mtolist\u001b[0m\u001b[0;34m(\u001b[0m\u001b[0;34m)\u001b[0m\u001b[0;34m\u001b[0m\u001b[0;34m\u001b[0m\u001b[0m\n\u001b[0m",
      "\u001b[0;31mKeyboardInterrupt\u001b[0m: "
     ]
    }
   ],
   "source": [
    "for element in range(len(user_numpy)):\n",
    "    for deal in range(len(user_numpy[element][1])):\n",
    "        if user_numpy[element][1][deal] != '0':\n",
    "            user_numpy[element][1][deal] = df_deal_vec.loc[df_deal_vec.deal_id == int(user_numpy[element][1][deal])].dealvec.values[0]\n",
    "        if user_numpy[element][1][deal] == '0':\n",
    "            user_numpy[element][1][deal] = np.zeros(200).tolist()"
   ]
  },
  {
   "cell_type": "code",
   "execution_count": null,
   "metadata": {},
   "outputs": [],
   "source": [
    "np.save('deal_session_per_user.npy', user_numpy)"
   ]
  }
 ],
 "metadata": {
  "hide_input": false,
  "kernelspec": {
   "display_name": "Python 3",
   "language": "python",
   "name": "python3"
  },
  "language_info": {
   "codemirror_mode": {
    "name": "ipython",
    "version": 3
   },
   "file_extension": ".py",
   "mimetype": "text/x-python",
   "name": "python",
   "nbconvert_exporter": "python",
   "pygments_lexer": "ipython3",
   "version": "3.6.6"
  }
 },
 "nbformat": 4,
 "nbformat_minor": 2
}
